{
  "nbformat": 4,
  "nbformat_minor": 5,
  "metadata": {
    "environment": {
      "name": "tf2-gpu.2-5.m71",
      "type": "gcloud",
      "uri": "gcr.io/deeplearning-platform-release/tf2-gpu.2-5:m71"
    },
    "kernelspec": {
      "display_name": "Python 3",
      "language": "python",
      "name": "python3"
    },
    "language_info": {
      "codemirror_mode": {
        "name": "ipython",
        "version": 3
      },
      "file_extension": ".py",
      "mimetype": "text/x-python",
      "name": "python",
      "nbconvert_exporter": "python",
      "pygments_lexer": "ipython3",
      "version": "3.7.10"
    },
    "colab": {
      "name": "Tensorflow_titanic.ipynb",
      "provenance": [],
      "include_colab_link": true
    }
  },
  "cells": [
    {
      "cell_type": "markdown",
      "metadata": {
        "id": "view-in-github",
        "colab_type": "text"
      },
      "source": [
        "<a href=\"https://colab.research.google.com/github/YannickPezeu/Titanic-Competition/blob/main/Tensorflow_titanic.ipynb\" target=\"_parent\"><img src=\"https://colab.research.google.com/assets/colab-badge.svg\" alt=\"Open In Colab\"/></a>"
      ]
    },
    {
      "cell_type": "markdown",
      "metadata": {
        "id": "51ce8ef6"
      },
      "source": [
        "# Imports"
      ],
      "id": "51ce8ef6"
    },
    {
      "cell_type": "code",
      "metadata": {
        "id": "017076a7",
        "outputId": "717ce782-9ff4-4675-ca6c-82ba0817a250"
      },
      "source": [
        "import pandas as pd\n",
        "import numpy as np\n",
        "import tensorflow as tf\n",
        "from tensorflow.keras.layers import Input\n",
        "from sklearn.model_selection import train_test_split\n",
        "from tensorflow import feature_column\n",
        "from tensorflow.keras import layers\n",
        "from sklearn.model_selection import cross_val_score\n",
        "\n",
        "\n",
        "#data = pd.read_csv(\"gs://titanic_yannick_pezeu/titanic/Preprocessed Data/train_preprocessed.csv\")\n",
        "data = pd.read_csv(\"gs://titanic_yannick_pezeu/titanic/Preprocessed Data/train_preprocessed_tensorflow.csv\")\n",
        "\n",
        "data[\"Cabin\"].replace(np.nan, \"0\", inplace = True) \n",
        "data"
      ],
      "id": "017076a7",
      "execution_count": null,
      "outputs": [
        {
          "data": {
            "text/html": [
              "<div>\n",
              "<style scoped>\n",
              "    .dataframe tbody tr th:only-of-type {\n",
              "        vertical-align: middle;\n",
              "    }\n",
              "\n",
              "    .dataframe tbody tr th {\n",
              "        vertical-align: top;\n",
              "    }\n",
              "\n",
              "    .dataframe thead th {\n",
              "        text-align: right;\n",
              "    }\n",
              "</style>\n",
              "<table border=\"1\" class=\"dataframe\">\n",
              "  <thead>\n",
              "    <tr style=\"text-align: right;\">\n",
              "      <th></th>\n",
              "      <th>PassengerId</th>\n",
              "      <th>Survived</th>\n",
              "      <th>Pclass</th>\n",
              "      <th>Title</th>\n",
              "      <th>LastName</th>\n",
              "      <th>Sex</th>\n",
              "      <th>Age</th>\n",
              "      <th>SibSp</th>\n",
              "      <th>Parch</th>\n",
              "      <th>Fare</th>\n",
              "      <th>Cabin</th>\n",
              "      <th>CabinF</th>\n",
              "      <th>CabinA</th>\n",
              "      <th>CabinB</th>\n",
              "      <th>CabinC</th>\n",
              "      <th>CabinE</th>\n",
              "      <th>CabinD</th>\n",
              "      <th>Embarked</th>\n",
              "    </tr>\n",
              "  </thead>\n",
              "  <tbody>\n",
              "    <tr>\n",
              "      <th>0</th>\n",
              "      <td>1</td>\n",
              "      <td>0</td>\n",
              "      <td>3</td>\n",
              "      <td>Mr</td>\n",
              "      <td>Braund</td>\n",
              "      <td>male</td>\n",
              "      <td>22</td>\n",
              "      <td>1</td>\n",
              "      <td>0</td>\n",
              "      <td>7.2500</td>\n",
              "      <td>0</td>\n",
              "      <td>0</td>\n",
              "      <td>0</td>\n",
              "      <td>0</td>\n",
              "      <td>0</td>\n",
              "      <td>0</td>\n",
              "      <td>0</td>\n",
              "      <td>S</td>\n",
              "    </tr>\n",
              "    <tr>\n",
              "      <th>1</th>\n",
              "      <td>2</td>\n",
              "      <td>1</td>\n",
              "      <td>1</td>\n",
              "      <td>Mrs</td>\n",
              "      <td>Cumings</td>\n",
              "      <td>female</td>\n",
              "      <td>38</td>\n",
              "      <td>1</td>\n",
              "      <td>0</td>\n",
              "      <td>71.2833</td>\n",
              "      <td>C85</td>\n",
              "      <td>0</td>\n",
              "      <td>0</td>\n",
              "      <td>0</td>\n",
              "      <td>1</td>\n",
              "      <td>0</td>\n",
              "      <td>0</td>\n",
              "      <td>C</td>\n",
              "    </tr>\n",
              "    <tr>\n",
              "      <th>2</th>\n",
              "      <td>3</td>\n",
              "      <td>1</td>\n",
              "      <td>3</td>\n",
              "      <td>Miss</td>\n",
              "      <td>Heikkinen</td>\n",
              "      <td>female</td>\n",
              "      <td>26</td>\n",
              "      <td>0</td>\n",
              "      <td>0</td>\n",
              "      <td>7.9250</td>\n",
              "      <td>0</td>\n",
              "      <td>0</td>\n",
              "      <td>0</td>\n",
              "      <td>0</td>\n",
              "      <td>0</td>\n",
              "      <td>0</td>\n",
              "      <td>0</td>\n",
              "      <td>S</td>\n",
              "    </tr>\n",
              "    <tr>\n",
              "      <th>3</th>\n",
              "      <td>4</td>\n",
              "      <td>1</td>\n",
              "      <td>1</td>\n",
              "      <td>Mrs</td>\n",
              "      <td>Futrelle</td>\n",
              "      <td>female</td>\n",
              "      <td>35</td>\n",
              "      <td>1</td>\n",
              "      <td>0</td>\n",
              "      <td>53.1000</td>\n",
              "      <td>C123</td>\n",
              "      <td>0</td>\n",
              "      <td>0</td>\n",
              "      <td>0</td>\n",
              "      <td>1</td>\n",
              "      <td>0</td>\n",
              "      <td>0</td>\n",
              "      <td>S</td>\n",
              "    </tr>\n",
              "    <tr>\n",
              "      <th>4</th>\n",
              "      <td>5</td>\n",
              "      <td>0</td>\n",
              "      <td>3</td>\n",
              "      <td>Mr</td>\n",
              "      <td>Allen</td>\n",
              "      <td>male</td>\n",
              "      <td>35</td>\n",
              "      <td>0</td>\n",
              "      <td>0</td>\n",
              "      <td>8.0500</td>\n",
              "      <td>0</td>\n",
              "      <td>0</td>\n",
              "      <td>0</td>\n",
              "      <td>0</td>\n",
              "      <td>0</td>\n",
              "      <td>0</td>\n",
              "      <td>0</td>\n",
              "      <td>S</td>\n",
              "    </tr>\n",
              "    <tr>\n",
              "      <th>...</th>\n",
              "      <td>...</td>\n",
              "      <td>...</td>\n",
              "      <td>...</td>\n",
              "      <td>...</td>\n",
              "      <td>...</td>\n",
              "      <td>...</td>\n",
              "      <td>...</td>\n",
              "      <td>...</td>\n",
              "      <td>...</td>\n",
              "      <td>...</td>\n",
              "      <td>...</td>\n",
              "      <td>...</td>\n",
              "      <td>...</td>\n",
              "      <td>...</td>\n",
              "      <td>...</td>\n",
              "      <td>...</td>\n",
              "      <td>...</td>\n",
              "      <td>...</td>\n",
              "    </tr>\n",
              "    <tr>\n",
              "      <th>886</th>\n",
              "      <td>887</td>\n",
              "      <td>0</td>\n",
              "      <td>2</td>\n",
              "      <td>Rev</td>\n",
              "      <td>Montvila</td>\n",
              "      <td>male</td>\n",
              "      <td>27</td>\n",
              "      <td>0</td>\n",
              "      <td>0</td>\n",
              "      <td>13.0000</td>\n",
              "      <td>0</td>\n",
              "      <td>0</td>\n",
              "      <td>0</td>\n",
              "      <td>0</td>\n",
              "      <td>0</td>\n",
              "      <td>0</td>\n",
              "      <td>0</td>\n",
              "      <td>S</td>\n",
              "    </tr>\n",
              "    <tr>\n",
              "      <th>887</th>\n",
              "      <td>888</td>\n",
              "      <td>1</td>\n",
              "      <td>1</td>\n",
              "      <td>Miss</td>\n",
              "      <td>Graham</td>\n",
              "      <td>female</td>\n",
              "      <td>19</td>\n",
              "      <td>0</td>\n",
              "      <td>0</td>\n",
              "      <td>30.0000</td>\n",
              "      <td>B42</td>\n",
              "      <td>0</td>\n",
              "      <td>0</td>\n",
              "      <td>1</td>\n",
              "      <td>0</td>\n",
              "      <td>0</td>\n",
              "      <td>0</td>\n",
              "      <td>S</td>\n",
              "    </tr>\n",
              "    <tr>\n",
              "      <th>888</th>\n",
              "      <td>889</td>\n",
              "      <td>0</td>\n",
              "      <td>3</td>\n",
              "      <td>Miss</td>\n",
              "      <td>Johnston</td>\n",
              "      <td>female</td>\n",
              "      <td>30</td>\n",
              "      <td>1</td>\n",
              "      <td>2</td>\n",
              "      <td>23.4500</td>\n",
              "      <td>0</td>\n",
              "      <td>0</td>\n",
              "      <td>0</td>\n",
              "      <td>0</td>\n",
              "      <td>0</td>\n",
              "      <td>0</td>\n",
              "      <td>0</td>\n",
              "      <td>S</td>\n",
              "    </tr>\n",
              "    <tr>\n",
              "      <th>889</th>\n",
              "      <td>890</td>\n",
              "      <td>1</td>\n",
              "      <td>1</td>\n",
              "      <td>Mr</td>\n",
              "      <td>Behr</td>\n",
              "      <td>male</td>\n",
              "      <td>26</td>\n",
              "      <td>0</td>\n",
              "      <td>0</td>\n",
              "      <td>30.0000</td>\n",
              "      <td>C148</td>\n",
              "      <td>0</td>\n",
              "      <td>0</td>\n",
              "      <td>0</td>\n",
              "      <td>1</td>\n",
              "      <td>0</td>\n",
              "      <td>0</td>\n",
              "      <td>C</td>\n",
              "    </tr>\n",
              "    <tr>\n",
              "      <th>890</th>\n",
              "      <td>891</td>\n",
              "      <td>0</td>\n",
              "      <td>3</td>\n",
              "      <td>Mr</td>\n",
              "      <td>Dooley</td>\n",
              "      <td>male</td>\n",
              "      <td>32</td>\n",
              "      <td>0</td>\n",
              "      <td>0</td>\n",
              "      <td>7.7500</td>\n",
              "      <td>0</td>\n",
              "      <td>0</td>\n",
              "      <td>0</td>\n",
              "      <td>0</td>\n",
              "      <td>0</td>\n",
              "      <td>0</td>\n",
              "      <td>0</td>\n",
              "      <td>Q</td>\n",
              "    </tr>\n",
              "  </tbody>\n",
              "</table>\n",
              "<p>891 rows × 18 columns</p>\n",
              "</div>"
            ],
            "text/plain": [
              "     PassengerId  Survived  Pclass Title   LastName     Sex  Age  SibSp  \\\n",
              "0              1         0       3    Mr     Braund    male   22      1   \n",
              "1              2         1       1   Mrs    Cumings  female   38      1   \n",
              "2              3         1       3  Miss  Heikkinen  female   26      0   \n",
              "3              4         1       1   Mrs   Futrelle  female   35      1   \n",
              "4              5         0       3    Mr      Allen    male   35      0   \n",
              "..           ...       ...     ...   ...        ...     ...  ...    ...   \n",
              "886          887         0       2   Rev   Montvila    male   27      0   \n",
              "887          888         1       1  Miss     Graham  female   19      0   \n",
              "888          889         0       3  Miss   Johnston  female   30      1   \n",
              "889          890         1       1    Mr       Behr    male   26      0   \n",
              "890          891         0       3    Mr     Dooley    male   32      0   \n",
              "\n",
              "     Parch     Fare Cabin  CabinF  CabinA  CabinB  CabinC  CabinE  CabinD  \\\n",
              "0        0   7.2500     0       0       0       0       0       0       0   \n",
              "1        0  71.2833   C85       0       0       0       1       0       0   \n",
              "2        0   7.9250     0       0       0       0       0       0       0   \n",
              "3        0  53.1000  C123       0       0       0       1       0       0   \n",
              "4        0   8.0500     0       0       0       0       0       0       0   \n",
              "..     ...      ...   ...     ...     ...     ...     ...     ...     ...   \n",
              "886      0  13.0000     0       0       0       0       0       0       0   \n",
              "887      0  30.0000   B42       0       0       1       0       0       0   \n",
              "888      2  23.4500     0       0       0       0       0       0       0   \n",
              "889      0  30.0000  C148       0       0       0       1       0       0   \n",
              "890      0   7.7500     0       0       0       0       0       0       0   \n",
              "\n",
              "    Embarked  \n",
              "0          S  \n",
              "1          C  \n",
              "2          S  \n",
              "3          S  \n",
              "4          S  \n",
              "..       ...  \n",
              "886        S  \n",
              "887        S  \n",
              "888        S  \n",
              "889        C  \n",
              "890        Q  \n",
              "\n",
              "[891 rows x 18 columns]"
            ]
          },
          "execution_count": 1,
          "metadata": {},
          "output_type": "execute_result"
        }
      ]
    },
    {
      "cell_type": "code",
      "metadata": {
        "id": "082e433e"
      },
      "source": [
        "data[\"Embarked\"].replace(np.nan, \"0\", inplace = True) "
      ],
      "id": "082e433e",
      "execution_count": null,
      "outputs": []
    },
    {
      "cell_type": "markdown",
      "metadata": {
        "id": "ac8e8dfb"
      },
      "source": [
        "# Prepare Dataset"
      ],
      "id": "ac8e8dfb"
    },
    {
      "cell_type": "code",
      "metadata": {
        "id": "4a5dfa49",
        "outputId": "744b3eea-84af-4cd5-c43f-57a05234f46a"
      },
      "source": [
        "train, test = train_test_split(data, test_size=0.2)\n",
        "train, val = train_test_split(train, test_size=0.2)\n",
        "print(len(train), 'train examples')\n",
        "print(len(val), 'validation examples')\n",
        "print(len(test), 'test examples')"
      ],
      "id": "4a5dfa49",
      "execution_count": null,
      "outputs": [
        {
          "name": "stdout",
          "output_type": "stream",
          "text": [
            "569 train examples\n",
            "143 validation examples\n",
            "179 test examples\n"
          ]
        }
      ]
    },
    {
      "cell_type": "code",
      "metadata": {
        "id": "a35fd632"
      },
      "source": [
        "# A utility method to create a tf.data dataset from a Pandas Dataframe\n",
        "def df_to_dataset(dataframe, shuffle=True, batch_size=32):\n",
        "  dataframe = dataframe.copy()\n",
        "  labels = dataframe.pop('Survived')\n",
        "  ds = tf.data.Dataset.from_tensor_slices((dict(dataframe), labels))\n",
        "  if shuffle:\n",
        "    ds = ds.shuffle(buffer_size=len(dataframe))\n",
        "  ds = ds.batch(batch_size)\n",
        "  return ds"
      ],
      "id": "a35fd632",
      "execution_count": null,
      "outputs": []
    },
    {
      "cell_type": "code",
      "metadata": {
        "id": "cdded07d"
      },
      "source": [
        "batch_size = 5 # A small batch sized is used for demonstration purposes\n",
        "train_ds = df_to_dataset(train, batch_size=batch_size)\n",
        "val_ds = df_to_dataset(val, shuffle=False, batch_size=batch_size)\n",
        "test_ds = df_to_dataset(test, shuffle=False, batch_size=batch_size)"
      ],
      "id": "cdded07d",
      "execution_count": null,
      "outputs": []
    },
    {
      "cell_type": "code",
      "metadata": {
        "id": "f340c613",
        "outputId": "d85e00a3-0676-4136-a887-7ff855dd4096"
      },
      "source": [
        "for feature_batch, label_batch in train_ds.take(1):\n",
        "  print('Every feature:', list(feature_batch.keys()))\n",
        "  print('A batch of ages:', feature_batch['Age'])\n",
        "  print('A batch of targets:', label_batch )"
      ],
      "id": "f340c613",
      "execution_count": null,
      "outputs": [
        {
          "name": "stdout",
          "output_type": "stream",
          "text": [
            "Every feature: ['PassengerId', 'Pclass', 'Title', 'LastName', 'Sex', 'Age', 'SibSp', 'Parch', 'Fare', 'Cabin', 'CabinF', 'CabinA', 'CabinB', 'CabinC', 'CabinE', 'CabinD', 'Embarked']\n",
            "A batch of ages: tf.Tensor([22 36 23 54 33], shape=(5,), dtype=int64)\n",
            "A batch of targets: tf.Tensor([1 0 1 0 0], shape=(5,), dtype=int64)\n"
          ]
        }
      ]
    },
    {
      "cell_type": "code",
      "metadata": {
        "id": "8fefaee1"
      },
      "source": [
        "# We will use this batch to demonstrate several types of feature columns\n",
        "example_batch = next(iter(train_ds))[0]"
      ],
      "id": "8fefaee1",
      "execution_count": null,
      "outputs": []
    },
    {
      "cell_type": "code",
      "metadata": {
        "id": "4c569197"
      },
      "source": [
        "# A utility method to create a feature column\n",
        "# and to transform a batch of data\n",
        "def demo(feature_column):\n",
        "  feature_layer = layers.DenseFeatures(feature_column)\n",
        "  print(feature_layer(example_batch).numpy())"
      ],
      "id": "4c569197",
      "execution_count": null,
      "outputs": []
    },
    {
      "cell_type": "code",
      "metadata": {
        "id": "50932966",
        "outputId": "4e96af05-2ec5-4cc5-da65-cf656b4bb9df"
      },
      "source": [
        "photo_count = feature_column.numeric_column('Age')\n",
        "demo(photo_count)"
      ],
      "id": "50932966",
      "execution_count": null,
      "outputs": [
        {
          "name": "stdout",
          "output_type": "stream",
          "text": [
            "[[32.]\n",
            " [30.]\n",
            " [23.]\n",
            " [30.]\n",
            " [41.]]\n"
          ]
        }
      ]
    },
    {
      "cell_type": "code",
      "metadata": {
        "id": "629c6743",
        "outputId": "6a822657-6e89-4dde-e646-2d2055b284d3"
      },
      "source": [
        "age = feature_column.numeric_column('Age')\n",
        "age_buckets = feature_column.bucketized_column(age, boundaries=[1, 20, 50])\n",
        "demo(age_buckets)"
      ],
      "id": "629c6743",
      "execution_count": null,
      "outputs": [
        {
          "name": "stdout",
          "output_type": "stream",
          "text": [
            "[[0. 0. 1. 0.]\n",
            " [0. 0. 1. 0.]\n",
            " [0. 0. 1. 0.]\n",
            " [0. 0. 1. 0.]\n",
            " [0. 0. 1. 0.]]\n"
          ]
        }
      ]
    },
    {
      "cell_type": "code",
      "metadata": {
        "id": "3941a4b8",
        "outputId": "e35fde6d-b092-4a17-e624-7eab695ab27c"
      },
      "source": [
        "Cabine = feature_column.categorical_column_with_hash_bucket(\"Cabin\", 1000)\n",
        "\n",
        "Cabine = feature_column.indicator_column(Cabine)\n",
        "demo(Cabine)"
      ],
      "id": "3941a4b8",
      "execution_count": null,
      "outputs": [
        {
          "name": "stdout",
          "output_type": "stream",
          "text": [
            "[[0. 0. 0. ... 0. 0. 0.]\n",
            " [0. 0. 0. ... 0. 0. 0.]\n",
            " [0. 0. 0. ... 0. 0. 0.]\n",
            " [0. 0. 0. ... 0. 0. 0.]\n",
            " [0. 0. 0. ... 0. 0. 0.]]\n"
          ]
        }
      ]
    },
    {
      "cell_type": "code",
      "metadata": {
        "id": "735b626d",
        "outputId": "f4a4be1c-9570-48ed-afd7-466943947aaa"
      },
      "source": [
        "Sex = feature_column.categorical_column_with_vocabulary_list(\"Sex\", [\"male\", \"female\"])\n",
        "\n",
        "Sex = feature_column.indicator_column(Sex)\n",
        "demo(Sex)"
      ],
      "id": "735b626d",
      "execution_count": null,
      "outputs": [
        {
          "name": "stdout",
          "output_type": "stream",
          "text": [
            "[[0. 1.]\n",
            " [1. 0.]\n",
            " [1. 0.]\n",
            " [1. 0.]\n",
            " [1. 0.]]\n"
          ]
        }
      ]
    },
    {
      "cell_type": "code",
      "metadata": {
        "id": "b1f5a4c9",
        "outputId": "e8ec5ca7-650c-4061-b179-739a3286079c"
      },
      "source": [
        "list(data[\"Pclass\"].unique())"
      ],
      "id": "b1f5a4c9",
      "execution_count": null,
      "outputs": [
        {
          "data": {
            "text/plain": [
              "[3, 1, 2]"
            ]
          },
          "execution_count": 13,
          "metadata": {},
          "output_type": "execute_result"
        }
      ]
    },
    {
      "cell_type": "code",
      "metadata": {
        "id": "230d14d0",
        "outputId": "65cd5f95-fb5a-4416-f74a-cd5538ff5d00"
      },
      "source": [
        "data"
      ],
      "id": "230d14d0",
      "execution_count": null,
      "outputs": [
        {
          "data": {
            "text/html": [
              "<div>\n",
              "<style scoped>\n",
              "    .dataframe tbody tr th:only-of-type {\n",
              "        vertical-align: middle;\n",
              "    }\n",
              "\n",
              "    .dataframe tbody tr th {\n",
              "        vertical-align: top;\n",
              "    }\n",
              "\n",
              "    .dataframe thead th {\n",
              "        text-align: right;\n",
              "    }\n",
              "</style>\n",
              "<table border=\"1\" class=\"dataframe\">\n",
              "  <thead>\n",
              "    <tr style=\"text-align: right;\">\n",
              "      <th></th>\n",
              "      <th>PassengerId</th>\n",
              "      <th>Survived</th>\n",
              "      <th>Pclass</th>\n",
              "      <th>Title</th>\n",
              "      <th>LastName</th>\n",
              "      <th>Sex</th>\n",
              "      <th>Age</th>\n",
              "      <th>SibSp</th>\n",
              "      <th>Parch</th>\n",
              "      <th>Fare</th>\n",
              "      <th>Cabin</th>\n",
              "      <th>CabinF</th>\n",
              "      <th>CabinA</th>\n",
              "      <th>CabinB</th>\n",
              "      <th>CabinC</th>\n",
              "      <th>CabinE</th>\n",
              "      <th>CabinD</th>\n",
              "      <th>Embarked</th>\n",
              "    </tr>\n",
              "  </thead>\n",
              "  <tbody>\n",
              "    <tr>\n",
              "      <th>0</th>\n",
              "      <td>1</td>\n",
              "      <td>0</td>\n",
              "      <td>3</td>\n",
              "      <td>Mr</td>\n",
              "      <td>Braund</td>\n",
              "      <td>male</td>\n",
              "      <td>22</td>\n",
              "      <td>1</td>\n",
              "      <td>0</td>\n",
              "      <td>7.2500</td>\n",
              "      <td>0</td>\n",
              "      <td>0</td>\n",
              "      <td>0</td>\n",
              "      <td>0</td>\n",
              "      <td>0</td>\n",
              "      <td>0</td>\n",
              "      <td>0</td>\n",
              "      <td>S</td>\n",
              "    </tr>\n",
              "    <tr>\n",
              "      <th>1</th>\n",
              "      <td>2</td>\n",
              "      <td>1</td>\n",
              "      <td>1</td>\n",
              "      <td>Mrs</td>\n",
              "      <td>Cumings</td>\n",
              "      <td>female</td>\n",
              "      <td>38</td>\n",
              "      <td>1</td>\n",
              "      <td>0</td>\n",
              "      <td>71.2833</td>\n",
              "      <td>C85</td>\n",
              "      <td>0</td>\n",
              "      <td>0</td>\n",
              "      <td>0</td>\n",
              "      <td>1</td>\n",
              "      <td>0</td>\n",
              "      <td>0</td>\n",
              "      <td>C</td>\n",
              "    </tr>\n",
              "    <tr>\n",
              "      <th>2</th>\n",
              "      <td>3</td>\n",
              "      <td>1</td>\n",
              "      <td>3</td>\n",
              "      <td>Miss</td>\n",
              "      <td>Heikkinen</td>\n",
              "      <td>female</td>\n",
              "      <td>26</td>\n",
              "      <td>0</td>\n",
              "      <td>0</td>\n",
              "      <td>7.9250</td>\n",
              "      <td>0</td>\n",
              "      <td>0</td>\n",
              "      <td>0</td>\n",
              "      <td>0</td>\n",
              "      <td>0</td>\n",
              "      <td>0</td>\n",
              "      <td>0</td>\n",
              "      <td>S</td>\n",
              "    </tr>\n",
              "    <tr>\n",
              "      <th>3</th>\n",
              "      <td>4</td>\n",
              "      <td>1</td>\n",
              "      <td>1</td>\n",
              "      <td>Mrs</td>\n",
              "      <td>Futrelle</td>\n",
              "      <td>female</td>\n",
              "      <td>35</td>\n",
              "      <td>1</td>\n",
              "      <td>0</td>\n",
              "      <td>53.1000</td>\n",
              "      <td>C123</td>\n",
              "      <td>0</td>\n",
              "      <td>0</td>\n",
              "      <td>0</td>\n",
              "      <td>1</td>\n",
              "      <td>0</td>\n",
              "      <td>0</td>\n",
              "      <td>S</td>\n",
              "    </tr>\n",
              "    <tr>\n",
              "      <th>4</th>\n",
              "      <td>5</td>\n",
              "      <td>0</td>\n",
              "      <td>3</td>\n",
              "      <td>Mr</td>\n",
              "      <td>Allen</td>\n",
              "      <td>male</td>\n",
              "      <td>35</td>\n",
              "      <td>0</td>\n",
              "      <td>0</td>\n",
              "      <td>8.0500</td>\n",
              "      <td>0</td>\n",
              "      <td>0</td>\n",
              "      <td>0</td>\n",
              "      <td>0</td>\n",
              "      <td>0</td>\n",
              "      <td>0</td>\n",
              "      <td>0</td>\n",
              "      <td>S</td>\n",
              "    </tr>\n",
              "    <tr>\n",
              "      <th>...</th>\n",
              "      <td>...</td>\n",
              "      <td>...</td>\n",
              "      <td>...</td>\n",
              "      <td>...</td>\n",
              "      <td>...</td>\n",
              "      <td>...</td>\n",
              "      <td>...</td>\n",
              "      <td>...</td>\n",
              "      <td>...</td>\n",
              "      <td>...</td>\n",
              "      <td>...</td>\n",
              "      <td>...</td>\n",
              "      <td>...</td>\n",
              "      <td>...</td>\n",
              "      <td>...</td>\n",
              "      <td>...</td>\n",
              "      <td>...</td>\n",
              "      <td>...</td>\n",
              "    </tr>\n",
              "    <tr>\n",
              "      <th>886</th>\n",
              "      <td>887</td>\n",
              "      <td>0</td>\n",
              "      <td>2</td>\n",
              "      <td>Rev</td>\n",
              "      <td>Montvila</td>\n",
              "      <td>male</td>\n",
              "      <td>27</td>\n",
              "      <td>0</td>\n",
              "      <td>0</td>\n",
              "      <td>13.0000</td>\n",
              "      <td>0</td>\n",
              "      <td>0</td>\n",
              "      <td>0</td>\n",
              "      <td>0</td>\n",
              "      <td>0</td>\n",
              "      <td>0</td>\n",
              "      <td>0</td>\n",
              "      <td>S</td>\n",
              "    </tr>\n",
              "    <tr>\n",
              "      <th>887</th>\n",
              "      <td>888</td>\n",
              "      <td>1</td>\n",
              "      <td>1</td>\n",
              "      <td>Miss</td>\n",
              "      <td>Graham</td>\n",
              "      <td>female</td>\n",
              "      <td>19</td>\n",
              "      <td>0</td>\n",
              "      <td>0</td>\n",
              "      <td>30.0000</td>\n",
              "      <td>B42</td>\n",
              "      <td>0</td>\n",
              "      <td>0</td>\n",
              "      <td>1</td>\n",
              "      <td>0</td>\n",
              "      <td>0</td>\n",
              "      <td>0</td>\n",
              "      <td>S</td>\n",
              "    </tr>\n",
              "    <tr>\n",
              "      <th>888</th>\n",
              "      <td>889</td>\n",
              "      <td>0</td>\n",
              "      <td>3</td>\n",
              "      <td>Miss</td>\n",
              "      <td>Johnston</td>\n",
              "      <td>female</td>\n",
              "      <td>30</td>\n",
              "      <td>1</td>\n",
              "      <td>2</td>\n",
              "      <td>23.4500</td>\n",
              "      <td>0</td>\n",
              "      <td>0</td>\n",
              "      <td>0</td>\n",
              "      <td>0</td>\n",
              "      <td>0</td>\n",
              "      <td>0</td>\n",
              "      <td>0</td>\n",
              "      <td>S</td>\n",
              "    </tr>\n",
              "    <tr>\n",
              "      <th>889</th>\n",
              "      <td>890</td>\n",
              "      <td>1</td>\n",
              "      <td>1</td>\n",
              "      <td>Mr</td>\n",
              "      <td>Behr</td>\n",
              "      <td>male</td>\n",
              "      <td>26</td>\n",
              "      <td>0</td>\n",
              "      <td>0</td>\n",
              "      <td>30.0000</td>\n",
              "      <td>C148</td>\n",
              "      <td>0</td>\n",
              "      <td>0</td>\n",
              "      <td>0</td>\n",
              "      <td>1</td>\n",
              "      <td>0</td>\n",
              "      <td>0</td>\n",
              "      <td>C</td>\n",
              "    </tr>\n",
              "    <tr>\n",
              "      <th>890</th>\n",
              "      <td>891</td>\n",
              "      <td>0</td>\n",
              "      <td>3</td>\n",
              "      <td>Mr</td>\n",
              "      <td>Dooley</td>\n",
              "      <td>male</td>\n",
              "      <td>32</td>\n",
              "      <td>0</td>\n",
              "      <td>0</td>\n",
              "      <td>7.7500</td>\n",
              "      <td>0</td>\n",
              "      <td>0</td>\n",
              "      <td>0</td>\n",
              "      <td>0</td>\n",
              "      <td>0</td>\n",
              "      <td>0</td>\n",
              "      <td>0</td>\n",
              "      <td>Q</td>\n",
              "    </tr>\n",
              "  </tbody>\n",
              "</table>\n",
              "<p>891 rows × 18 columns</p>\n",
              "</div>"
            ],
            "text/plain": [
              "     PassengerId  Survived  Pclass Title   LastName     Sex  Age  SibSp  \\\n",
              "0              1         0       3    Mr     Braund    male   22      1   \n",
              "1              2         1       1   Mrs    Cumings  female   38      1   \n",
              "2              3         1       3  Miss  Heikkinen  female   26      0   \n",
              "3              4         1       1   Mrs   Futrelle  female   35      1   \n",
              "4              5         0       3    Mr      Allen    male   35      0   \n",
              "..           ...       ...     ...   ...        ...     ...  ...    ...   \n",
              "886          887         0       2   Rev   Montvila    male   27      0   \n",
              "887          888         1       1  Miss     Graham  female   19      0   \n",
              "888          889         0       3  Miss   Johnston  female   30      1   \n",
              "889          890         1       1    Mr       Behr    male   26      0   \n",
              "890          891         0       3    Mr     Dooley    male   32      0   \n",
              "\n",
              "     Parch     Fare Cabin  CabinF  CabinA  CabinB  CabinC  CabinE  CabinD  \\\n",
              "0        0   7.2500     0       0       0       0       0       0       0   \n",
              "1        0  71.2833   C85       0       0       0       1       0       0   \n",
              "2        0   7.9250     0       0       0       0       0       0       0   \n",
              "3        0  53.1000  C123       0       0       0       1       0       0   \n",
              "4        0   8.0500     0       0       0       0       0       0       0   \n",
              "..     ...      ...   ...     ...     ...     ...     ...     ...     ...   \n",
              "886      0  13.0000     0       0       0       0       0       0       0   \n",
              "887      0  30.0000   B42       0       0       1       0       0       0   \n",
              "888      2  23.4500     0       0       0       0       0       0       0   \n",
              "889      0  30.0000  C148       0       0       0       1       0       0   \n",
              "890      0   7.7500     0       0       0       0       0       0       0   \n",
              "\n",
              "    Embarked  \n",
              "0          S  \n",
              "1          C  \n",
              "2          S  \n",
              "3          S  \n",
              "4          S  \n",
              "..       ...  \n",
              "886        S  \n",
              "887        S  \n",
              "888        S  \n",
              "889        C  \n",
              "890        Q  \n",
              "\n",
              "[891 rows x 18 columns]"
            ]
          },
          "execution_count": 14,
          "metadata": {},
          "output_type": "execute_result"
        }
      ]
    },
    {
      "cell_type": "markdown",
      "metadata": {
        "id": "c83a14b0"
      },
      "source": [
        "# Sequential Model"
      ],
      "id": "c83a14b0"
    },
    {
      "cell_type": "code",
      "metadata": {
        "id": "3489eec2"
      },
      "source": [
        "categorical_columns_vocabulary_names = [\"Pclass\", \"Title\", \"Sex\", \"Embarked\", \"SibSp\", \"Parch\"]\n",
        "categorical_columns_hash_names = [\"Cabin\", \"LastName\"]\n",
        "numeric_columns_names = [\"Age\", \"Fare\"]\n",
        "indicator_columns_names = [\"CabinA\",\"CabinB\",\"CabinC\",\"CabinD\",\"CabinE\",\"CabinF\"]\n",
        "\n",
        "column_names = categorical_columns_vocabulary_names+categorical_columns_hash_names +numeric_columns_names + indicator_columns_names\n"
      ],
      "id": "3489eec2",
      "execution_count": null,
      "outputs": []
    },
    {
      "cell_type": "code",
      "metadata": {
        "id": "0ab53ca9"
      },
      "source": [
        "feature_columns = []\n",
        "\n",
        "# numeric cols\n",
        "for header in numeric_columns_names:\n",
        "  feature_columns.append(feature_column.numeric_column(header))\n",
        "\n",
        "# bucketized cols\n",
        "age = feature_column.numeric_column('Age')\n",
        "age_buckets = feature_column.bucketized_column(age, boundaries=[0, 5, 10, 15, 20,25,30,35,40,45,50,55,60,65,70,75,80])\n",
        "feature_columns.append(age_buckets)\n",
        "\n",
        "# indicator_columns\n",
        "for col_name in indicator_columns_names:\n",
        "  categorical_column = feature_column.categorical_column_with_vocabulary_list(\n",
        "      col_name, data[col_name].unique())\n",
        "  indicator_column = feature_column.indicator_column(categorical_column)\n",
        "  feature_columns.append(indicator_column)\n",
        "\n",
        "# categorical with vocabulary\n",
        "for col_name in categorical_columns_vocabulary_names:\n",
        "    categorical_column = feature_column.categorical_column_with_vocabulary_list(\n",
        "      col_name, data[col_name].unique())\n",
        "    indicator_column = feature_column.indicator_column(categorical_column)\n",
        "    feature_columns.append(indicator_column)\n",
        "    \n",
        "for col_name in categorical_columns_hash_names:\n",
        "    categorical_column = feature_column.categorical_column_with_hash_bucket(\n",
        "      col_name, 1000)\n",
        "    indicator_column = feature_column.indicator_column(categorical_column)\n",
        "    feature_columns.append(indicator_column)\n",
        "\n",
        "\n",
        "    "
      ],
      "id": "0ab53ca9",
      "execution_count": null,
      "outputs": []
    },
    {
      "cell_type": "code",
      "metadata": {
        "id": "6835384a"
      },
      "source": [
        ""
      ],
      "id": "6835384a",
      "execution_count": null,
      "outputs": []
    },
    {
      "cell_type": "code",
      "metadata": {
        "id": "387be410"
      },
      "source": [
        ""
      ],
      "id": "387be410",
      "execution_count": null,
      "outputs": []
    },
    {
      "cell_type": "code",
      "metadata": {
        "id": "a2eaa275",
        "outputId": "4322fb8b-b2f0-4068-b8c1-d8c990fd7a42"
      },
      "source": [
        "feature_columns"
      ],
      "id": "a2eaa275",
      "execution_count": null,
      "outputs": [
        {
          "data": {
            "text/plain": [
              "[NumericColumn(key='Age', shape=(1,), default_value=None, dtype=tf.float32, normalizer_fn=None),\n",
              " NumericColumn(key='Fare', shape=(1,), default_value=None, dtype=tf.float32, normalizer_fn=None),\n",
              " BucketizedColumn(source_column=NumericColumn(key='Age', shape=(1,), default_value=None, dtype=tf.float32, normalizer_fn=None), boundaries=(0, 5, 10, 15, 20, 25, 30, 35, 40, 45, 50, 55, 60, 65, 70, 75, 80)),\n",
              " IndicatorColumn(categorical_column=VocabularyListCategoricalColumn(key='CabinA', vocabulary_list=(0, 1), dtype=tf.int64, default_value=-1, num_oov_buckets=0)),\n",
              " IndicatorColumn(categorical_column=VocabularyListCategoricalColumn(key='CabinB', vocabulary_list=(0, 1), dtype=tf.int64, default_value=-1, num_oov_buckets=0)),\n",
              " IndicatorColumn(categorical_column=VocabularyListCategoricalColumn(key='CabinC', vocabulary_list=(0, 1), dtype=tf.int64, default_value=-1, num_oov_buckets=0)),\n",
              " IndicatorColumn(categorical_column=VocabularyListCategoricalColumn(key='CabinD', vocabulary_list=(0, 1), dtype=tf.int64, default_value=-1, num_oov_buckets=0)),\n",
              " IndicatorColumn(categorical_column=VocabularyListCategoricalColumn(key='CabinE', vocabulary_list=(0, 1), dtype=tf.int64, default_value=-1, num_oov_buckets=0)),\n",
              " IndicatorColumn(categorical_column=VocabularyListCategoricalColumn(key='CabinF', vocabulary_list=(0, 1), dtype=tf.int64, default_value=-1, num_oov_buckets=0)),\n",
              " IndicatorColumn(categorical_column=VocabularyListCategoricalColumn(key='Pclass', vocabulary_list=(3, 1, 2), dtype=tf.int64, default_value=-1, num_oov_buckets=0)),\n",
              " IndicatorColumn(categorical_column=VocabularyListCategoricalColumn(key='Title', vocabulary_list=('Mr', 'Mrs', 'Miss', 'Master', 'Don', 'Rev', 'Dr', 'Mme', 'Ms', 'Major', 'Lady', 'Sir', 'Mlle', 'Col', 'Capt', 'the Count', 'Jonkheer'), dtype=tf.string, default_value=-1, num_oov_buckets=0)),\n",
              " IndicatorColumn(categorical_column=VocabularyListCategoricalColumn(key='Sex', vocabulary_list=('male', 'female'), dtype=tf.string, default_value=-1, num_oov_buckets=0)),\n",
              " IndicatorColumn(categorical_column=VocabularyListCategoricalColumn(key='Embarked', vocabulary_list=('S', 'C', 'Q', '0'), dtype=tf.string, default_value=-1, num_oov_buckets=0)),\n",
              " IndicatorColumn(categorical_column=VocabularyListCategoricalColumn(key='SibSp', vocabulary_list=(1, 0, 3, 4, 2, 5, 8), dtype=tf.int64, default_value=-1, num_oov_buckets=0)),\n",
              " IndicatorColumn(categorical_column=VocabularyListCategoricalColumn(key='Parch', vocabulary_list=(0, 1, 2, 5, 3, 4, 6), dtype=tf.int64, default_value=-1, num_oov_buckets=0)),\n",
              " IndicatorColumn(categorical_column=HashedCategoricalColumn(key='Cabin', hash_bucket_size=1000, dtype=tf.string)),\n",
              " IndicatorColumn(categorical_column=HashedCategoricalColumn(key='LastName', hash_bucket_size=1000, dtype=tf.string))]"
            ]
          },
          "execution_count": 17,
          "metadata": {},
          "output_type": "execute_result"
        }
      ]
    },
    {
      "cell_type": "code",
      "metadata": {
        "id": "38d4b60c"
      },
      "source": [
        ""
      ],
      "id": "38d4b60c",
      "execution_count": null,
      "outputs": []
    },
    {
      "cell_type": "code",
      "metadata": {
        "id": "b9ddaa70"
      },
      "source": [
        "feature_layer = tf.keras.layers.DenseFeatures(feature_columns)"
      ],
      "id": "b9ddaa70",
      "execution_count": null,
      "outputs": []
    },
    {
      "cell_type": "code",
      "metadata": {
        "id": "8eb9aeea",
        "outputId": "30c44439-9e54-4d0a-df79-d89167b4a639"
      },
      "source": [
        "feature_layer(inputs)"
      ],
      "id": "8eb9aeea",
      "execution_count": null,
      "outputs": [
        {
          "ename": "NameError",
          "evalue": "name 'inputs' is not defined",
          "output_type": "error",
          "traceback": [
            "\u001b[0;31m---------------------------------------------------------------------------\u001b[0m",
            "\u001b[0;31mNameError\u001b[0m                                 Traceback (most recent call last)",
            "\u001b[0;32m<ipython-input-19-d443a49fa8d1>\u001b[0m in \u001b[0;36m<module>\u001b[0;34m\u001b[0m\n\u001b[0;32m----> 1\u001b[0;31m \u001b[0mfeature_layer\u001b[0m\u001b[0;34m(\u001b[0m\u001b[0minputs\u001b[0m\u001b[0;34m)\u001b[0m\u001b[0;34m\u001b[0m\u001b[0;34m\u001b[0m\u001b[0m\n\u001b[0m",
            "\u001b[0;31mNameError\u001b[0m: name 'inputs' is not defined"
          ]
        }
      ]
    },
    {
      "cell_type": "code",
      "metadata": {
        "id": "765dde56"
      },
      "source": [
        "batch_size = 32\n",
        "train_ds = df_to_dataset(train, batch_size=batch_size)\n",
        "val_ds = df_to_dataset(val, shuffle=False, batch_size=batch_size)\n",
        "test_ds = df_to_dataset(test, shuffle=False, batch_size=batch_size)"
      ],
      "id": "765dde56",
      "execution_count": null,
      "outputs": []
    },
    {
      "cell_type": "code",
      "metadata": {
        "id": "711ece0e"
      },
      "source": [
        ""
      ],
      "id": "711ece0e",
      "execution_count": null,
      "outputs": []
    },
    {
      "cell_type": "code",
      "metadata": {
        "id": "0da92abe"
      },
      "source": [
        ""
      ],
      "id": "0da92abe",
      "execution_count": null,
      "outputs": []
    },
    {
      "cell_type": "code",
      "metadata": {
        "id": "76cb1e9d",
        "outputId": "93c98622-3ee0-46bd-d1c2-90e088050744"
      },
      "source": [
        "model = tf.keras.Sequential([\n",
        "  feature_layer,\n",
        "  layers.Dense(128, activation='relu'),\n",
        "  layers.Dense(128, activation='relu'),\n",
        "  layers.Dropout(.3),\n",
        "  layers.Dense(1, activation = tf.keras.activations.sigmoid)\n",
        "])\n",
        "\n",
        "model.compile(optimizer='adam',\n",
        "              loss=tf.keras.losses.BinaryCrossentropy(from_logits=True),\n",
        "              metrics=['accuracy'])\n",
        "\n",
        "model.fit(train_ds,\n",
        "          validation_data=val_ds,\n",
        "          epochs=12)"
      ],
      "id": "76cb1e9d",
      "execution_count": null,
      "outputs": [
        {
          "name": "stdout",
          "output_type": "stream",
          "text": [
            "Epoch 1/12\n",
            "WARNING:tensorflow:Layers in a Sequential model should only have a single input tensor, but we receive a <class 'dict'> input: {'PassengerId': <tf.Tensor 'ExpandDims_12:0' shape=(None, 1) dtype=int64>, 'Pclass': <tf.Tensor 'ExpandDims_13:0' shape=(None, 1) dtype=int64>, 'Title': <tf.Tensor 'ExpandDims_16:0' shape=(None, 1) dtype=string>, 'LastName': <tf.Tensor 'ExpandDims_10:0' shape=(None, 1) dtype=string>, 'Sex': <tf.Tensor 'ExpandDims_14:0' shape=(None, 1) dtype=string>, 'Age': <tf.Tensor 'ExpandDims:0' shape=(None, 1) dtype=int64>, 'SibSp': <tf.Tensor 'ExpandDims_15:0' shape=(None, 1) dtype=int64>, 'Parch': <tf.Tensor 'ExpandDims_11:0' shape=(None, 1) dtype=int64>, 'Fare': <tf.Tensor 'ExpandDims_9:0' shape=(None, 1) dtype=float64>, 'Cabin': <tf.Tensor 'ExpandDims_1:0' shape=(None, 1) dtype=string>, 'CabinF': <tf.Tensor 'ExpandDims_7:0' shape=(None, 1) dtype=int64>, 'CabinA': <tf.Tensor 'ExpandDims_2:0' shape=(None, 1) dtype=int64>, 'CabinB': <tf.Tensor 'ExpandDims_3:0' shape=(None, 1) dtype=int64>, 'CabinC': <tf.Tensor 'ExpandDims_4:0' shape=(None, 1) dtype=int64>, 'CabinE': <tf.Tensor 'ExpandDims_6:0' shape=(None, 1) dtype=int64>, 'CabinD': <tf.Tensor 'ExpandDims_5:0' shape=(None, 1) dtype=int64>, 'Embarked': <tf.Tensor 'ExpandDims_8:0' shape=(None, 1) dtype=string>}\n",
            "Consider rewriting this model with the Functional API.\n"
          ]
        },
        {
          "name": "stderr",
          "output_type": "stream",
          "text": [
            "/opt/conda/lib/python3.7/site-packages/tensorflow/python/keras/backend.py:5017: UserWarning: \"`binary_crossentropy` received `from_logits=True`, but the `output` argument was produced by a sigmoid or softmax activation and thus does not represent logits. Was this intended?\"\n",
            "  '\"`binary_crossentropy` received `from_logits=True`, but the `output`'\n"
          ]
        },
        {
          "name": "stdout",
          "output_type": "stream",
          "text": [
            "WARNING:tensorflow:Layers in a Sequential model should only have a single input tensor, but we receive a <class 'dict'> input: {'PassengerId': <tf.Tensor 'ExpandDims_12:0' shape=(None, 1) dtype=int64>, 'Pclass': <tf.Tensor 'ExpandDims_13:0' shape=(None, 1) dtype=int64>, 'Title': <tf.Tensor 'ExpandDims_16:0' shape=(None, 1) dtype=string>, 'LastName': <tf.Tensor 'ExpandDims_10:0' shape=(None, 1) dtype=string>, 'Sex': <tf.Tensor 'ExpandDims_14:0' shape=(None, 1) dtype=string>, 'Age': <tf.Tensor 'ExpandDims:0' shape=(None, 1) dtype=int64>, 'SibSp': <tf.Tensor 'ExpandDims_15:0' shape=(None, 1) dtype=int64>, 'Parch': <tf.Tensor 'ExpandDims_11:0' shape=(None, 1) dtype=int64>, 'Fare': <tf.Tensor 'ExpandDims_9:0' shape=(None, 1) dtype=float64>, 'Cabin': <tf.Tensor 'ExpandDims_1:0' shape=(None, 1) dtype=string>, 'CabinF': <tf.Tensor 'ExpandDims_7:0' shape=(None, 1) dtype=int64>, 'CabinA': <tf.Tensor 'ExpandDims_2:0' shape=(None, 1) dtype=int64>, 'CabinB': <tf.Tensor 'ExpandDims_3:0' shape=(None, 1) dtype=int64>, 'CabinC': <tf.Tensor 'ExpandDims_4:0' shape=(None, 1) dtype=int64>, 'CabinE': <tf.Tensor 'ExpandDims_6:0' shape=(None, 1) dtype=int64>, 'CabinD': <tf.Tensor 'ExpandDims_5:0' shape=(None, 1) dtype=int64>, 'Embarked': <tf.Tensor 'ExpandDims_8:0' shape=(None, 1) dtype=string>}\n",
            "Consider rewriting this model with the Functional API.\n",
            "17/18 [===========================>..] - ETA: 0s - loss: 0.7080 - accuracy: 0.6360WARNING:tensorflow:Layers in a Sequential model should only have a single input tensor, but we receive a <class 'dict'> input: {'PassengerId': <tf.Tensor 'ExpandDims_12:0' shape=(None, 1) dtype=int64>, 'Pclass': <tf.Tensor 'ExpandDims_13:0' shape=(None, 1) dtype=int64>, 'Title': <tf.Tensor 'ExpandDims_16:0' shape=(None, 1) dtype=string>, 'LastName': <tf.Tensor 'ExpandDims_10:0' shape=(None, 1) dtype=string>, 'Sex': <tf.Tensor 'ExpandDims_14:0' shape=(None, 1) dtype=string>, 'Age': <tf.Tensor 'ExpandDims:0' shape=(None, 1) dtype=int64>, 'SibSp': <tf.Tensor 'ExpandDims_15:0' shape=(None, 1) dtype=int64>, 'Parch': <tf.Tensor 'ExpandDims_11:0' shape=(None, 1) dtype=int64>, 'Fare': <tf.Tensor 'ExpandDims_9:0' shape=(None, 1) dtype=float64>, 'Cabin': <tf.Tensor 'ExpandDims_1:0' shape=(None, 1) dtype=string>, 'CabinF': <tf.Tensor 'ExpandDims_7:0' shape=(None, 1) dtype=int64>, 'CabinA': <tf.Tensor 'ExpandDims_2:0' shape=(None, 1) dtype=int64>, 'CabinB': <tf.Tensor 'ExpandDims_3:0' shape=(None, 1) dtype=int64>, 'CabinC': <tf.Tensor 'ExpandDims_4:0' shape=(None, 1) dtype=int64>, 'CabinE': <tf.Tensor 'ExpandDims_6:0' shape=(None, 1) dtype=int64>, 'CabinD': <tf.Tensor 'ExpandDims_5:0' shape=(None, 1) dtype=int64>, 'Embarked': <tf.Tensor 'ExpandDims_8:0' shape=(None, 1) dtype=string>}\n",
            "Consider rewriting this model with the Functional API.\n",
            "18/18 [==============================] - 6s 151ms/step - loss: 0.7058 - accuracy: 0.6344 - val_loss: 0.6055 - val_accuracy: 0.7413\n",
            "Epoch 2/12\n",
            "18/18 [==============================] - 1s 30ms/step - loss: 0.6187 - accuracy: 0.6819 - val_loss: 0.5904 - val_accuracy: 0.6434\n",
            "Epoch 3/12\n",
            "18/18 [==============================] - 1s 37ms/step - loss: 0.5979 - accuracy: 0.6784 - val_loss: 0.5409 - val_accuracy: 0.7483\n",
            "Epoch 4/12\n",
            "18/18 [==============================] - 1s 33ms/step - loss: 0.5208 - accuracy: 0.7592 - val_loss: 0.4981 - val_accuracy: 0.7622\n",
            "Epoch 5/12\n",
            "18/18 [==============================] - 1s 32ms/step - loss: 0.5060 - accuracy: 0.7768 - val_loss: 0.4632 - val_accuracy: 0.7972\n",
            "Epoch 6/12\n",
            "18/18 [==============================] - 1s 37ms/step - loss: 0.4847 - accuracy: 0.7838 - val_loss: 0.4998 - val_accuracy: 0.7622\n",
            "Epoch 7/12\n",
            "18/18 [==============================] - 1s 29ms/step - loss: 0.4530 - accuracy: 0.8067 - val_loss: 0.4555 - val_accuracy: 0.8182\n",
            "Epoch 8/12\n",
            "18/18 [==============================] - 0s 19ms/step - loss: 0.4422 - accuracy: 0.8190 - val_loss: 0.4415 - val_accuracy: 0.8252\n",
            "Epoch 9/12\n",
            "18/18 [==============================] - 0s 25ms/step - loss: 0.3928 - accuracy: 0.8524 - val_loss: 0.4285 - val_accuracy: 0.8322\n",
            "Epoch 10/12\n",
            "18/18 [==============================] - 1s 33ms/step - loss: 0.3661 - accuracy: 0.8559 - val_loss: 0.4109 - val_accuracy: 0.8392\n",
            "Epoch 11/12\n",
            "18/18 [==============================] - 0s 22ms/step - loss: 0.3488 - accuracy: 0.8647 - val_loss: 0.4199 - val_accuracy: 0.8252\n",
            "Epoch 12/12\n",
            "18/18 [==============================] - 1s 32ms/step - loss: 0.3453 - accuracy: 0.8664 - val_loss: 0.4727 - val_accuracy: 0.8112\n"
          ]
        },
        {
          "data": {
            "text/plain": [
              "<tensorflow.python.keras.callbacks.History at 0x7f173d9bfdd0>"
            ]
          },
          "execution_count": 21,
          "metadata": {},
          "output_type": "execute_result"
        }
      ]
    },
    {
      "cell_type": "markdown",
      "metadata": {
        "id": "259e2e49"
      },
      "source": [
        "# Functional Model"
      ],
      "id": "259e2e49"
    },
    {
      "cell_type": "code",
      "metadata": {
        "id": "6fc208ef"
      },
      "source": [
        "categorical_columns_vocabulary_names = [\"Pclass\", \"Title\", \"Sex\", \"Embarked\", \"SibSp\", \"Parch\"]\n",
        "categorical_columns_hash_names = [\"Cabin\", \"LastName\"]\n",
        "numeric_columns_names = [\"Age\", \"Fare\"]\n",
        "indicator_columns_names = [\"CabinA\",\"CabinB\",\"CabinC\",\"CabinD\",\"CabinE\",\"CabinF\"]\n",
        "\n",
        "column_names = categorical_columns_vocabulary_names+categorical_columns_hash_names +numeric_columns_names + indicator_columns_names\n",
        "\n",
        "deep_columns = []\n",
        "for header in numeric_columns_names:\n",
        "  deep_columns.append(feature_column.numeric_column(header))\n",
        "\n",
        "wide_columns = []\n",
        "for col_name in categorical_columns_vocabulary_names:\n",
        "    categorical_column = feature_column.categorical_column_with_vocabulary_list(\n",
        "      col_name, data[col_name].unique())\n",
        "    indicator_column = feature_column.indicator_column(categorical_column)\n",
        "    wide_columns.append(indicator_column)\n",
        "    \n",
        "for col_name in categorical_columns_hash_names:\n",
        "    categorical_column = feature_column.categorical_column_with_hash_bucket(\n",
        "      col_name, 1000)\n",
        "    indicator_column = feature_column.indicator_column(categorical_column)\n",
        "    wide_columns.append(indicator_column)\n",
        "\n",
        "# bucketized cols\n",
        "age = feature_column.numeric_column('Age')\n",
        "age_buckets = feature_column.bucketized_column(age, boundaries=[0, 5, 10, 15, 20,25,30,35,40,45,50,55,60,65,70,75,80])\n",
        "wide_columns.append(age_buckets)\n",
        "\n",
        "# indicator_columns\n",
        "for col_name in indicator_columns_names:\n",
        "  categorical_column = feature_column.categorical_column_with_vocabulary_list(\n",
        "      col_name, data[col_name].unique())\n",
        "  indicator_column = feature_column.indicator_column(categorical_column)\n",
        "  wide_columns.append(indicator_column)    \n",
        "\n",
        "inputs = {colname: Input(name = colname, shape = (), dtype=data[colname].dtype) for colname in column_names}\n",
        "deep = tf.keras.layers.DenseFeatures(deep_columns)(inputs)\n",
        "wide = tf.keras.layers.DenseFeatures(wide_columns)(inputs)"
      ],
      "id": "6fc208ef",
      "execution_count": null,
      "outputs": []
    },
    {
      "cell_type": "code",
      "metadata": {
        "id": "3a5df50c"
      },
      "source": [
        "deep = tf.keras.layers.Dense(128, activation = 'relu')(deep)\n",
        "deep = layers.Dropout(.3)(deep)\n",
        "deep = tf.keras.layers.Dense(12, activation = 'relu')(deep)\n",
        "deep = layers.Dropout(.3)(deep)\n",
        "mix = tf.keras.layers.concatenate([deep, wide])\n",
        "mix = tf.keras.layers.Dense(12, activation = 'relu')(mix)\n",
        "mix = layers.Dropout(.3)(mix)\n",
        "output = tf.keras.layers.Dense(1, activation = tf.keras.activations.sigmoid)(mix)"
      ],
      "id": "3a5df50c",
      "execution_count": null,
      "outputs": []
    },
    {
      "cell_type": "code",
      "metadata": {
        "id": "b442580a"
      },
      "source": [
        "model_functional = tf.keras.Model(inputs = inputs, outputs = output, name = 'model_functional')"
      ],
      "id": "b442580a",
      "execution_count": null,
      "outputs": []
    },
    {
      "cell_type": "code",
      "metadata": {
        "id": "c264188a",
        "outputId": "722ccc85-59cd-4884-8a53-b2ddab228d68"
      },
      "source": [
        "model_functional.summary()"
      ],
      "id": "c264188a",
      "execution_count": null,
      "outputs": [
        {
          "name": "stdout",
          "output_type": "stream",
          "text": [
            "Model: \"model_functional\"\n",
            "__________________________________________________________________________________________________\n",
            "Layer (type)                    Output Shape         Param #     Connected to                     \n",
            "==================================================================================================\n",
            "Age (InputLayer)                [(None,)]            0                                            \n",
            "__________________________________________________________________________________________________\n",
            "Cabin (InputLayer)              [(None,)]            0                                            \n",
            "__________________________________________________________________________________________________\n",
            "CabinA (InputLayer)             [(None,)]            0                                            \n",
            "__________________________________________________________________________________________________\n",
            "CabinB (InputLayer)             [(None,)]            0                                            \n",
            "__________________________________________________________________________________________________\n",
            "CabinC (InputLayer)             [(None,)]            0                                            \n",
            "__________________________________________________________________________________________________\n",
            "CabinD (InputLayer)             [(None,)]            0                                            \n",
            "__________________________________________________________________________________________________\n",
            "CabinE (InputLayer)             [(None,)]            0                                            \n",
            "__________________________________________________________________________________________________\n",
            "CabinF (InputLayer)             [(None,)]            0                                            \n",
            "__________________________________________________________________________________________________\n",
            "Embarked (InputLayer)           [(None,)]            0                                            \n",
            "__________________________________________________________________________________________________\n",
            "Fare (InputLayer)               [(None,)]            0                                            \n",
            "__________________________________________________________________________________________________\n",
            "LastName (InputLayer)           [(None,)]            0                                            \n",
            "__________________________________________________________________________________________________\n",
            "Parch (InputLayer)              [(None,)]            0                                            \n",
            "__________________________________________________________________________________________________\n",
            "Pclass (InputLayer)             [(None,)]            0                                            \n",
            "__________________________________________________________________________________________________\n",
            "Sex (InputLayer)                [(None,)]            0                                            \n",
            "__________________________________________________________________________________________________\n",
            "SibSp (InputLayer)              [(None,)]            0                                            \n",
            "__________________________________________________________________________________________________\n",
            "Title (InputLayer)              [(None,)]            0                                            \n",
            "__________________________________________________________________________________________________\n",
            "dense_features_5 (DenseFeatures (None, 2)            0           Age[0][0]                        \n",
            "                                                                 Cabin[0][0]                      \n",
            "                                                                 CabinA[0][0]                     \n",
            "                                                                 CabinB[0][0]                     \n",
            "                                                                 CabinC[0][0]                     \n",
            "                                                                 CabinD[0][0]                     \n",
            "                                                                 CabinE[0][0]                     \n",
            "                                                                 CabinF[0][0]                     \n",
            "                                                                 Embarked[0][0]                   \n",
            "                                                                 Fare[0][0]                       \n",
            "                                                                 LastName[0][0]                   \n",
            "                                                                 Parch[0][0]                      \n",
            "                                                                 Pclass[0][0]                     \n",
            "                                                                 Sex[0][0]                        \n",
            "                                                                 SibSp[0][0]                      \n",
            "                                                                 Title[0][0]                      \n",
            "__________________________________________________________________________________________________\n",
            "dense_3 (Dense)                 (None, 128)          384         dense_features_5[0][0]           \n",
            "__________________________________________________________________________________________________\n",
            "dropout_1 (Dropout)             (None, 128)          0           dense_3[0][0]                    \n",
            "__________________________________________________________________________________________________\n",
            "dense_4 (Dense)                 (None, 12)           1548        dropout_1[0][0]                  \n",
            "__________________________________________________________________________________________________\n",
            "dropout_2 (Dropout)             (None, 12)           0           dense_4[0][0]                    \n",
            "__________________________________________________________________________________________________\n",
            "dense_features_6 (DenseFeatures (None, 2070)         0           Age[0][0]                        \n",
            "                                                                 Cabin[0][0]                      \n",
            "                                                                 CabinA[0][0]                     \n",
            "                                                                 CabinB[0][0]                     \n",
            "                                                                 CabinC[0][0]                     \n",
            "                                                                 CabinD[0][0]                     \n",
            "                                                                 CabinE[0][0]                     \n",
            "                                                                 CabinF[0][0]                     \n",
            "                                                                 Embarked[0][0]                   \n",
            "                                                                 Fare[0][0]                       \n",
            "                                                                 LastName[0][0]                   \n",
            "                                                                 Parch[0][0]                      \n",
            "                                                                 Pclass[0][0]                     \n",
            "                                                                 Sex[0][0]                        \n",
            "                                                                 SibSp[0][0]                      \n",
            "                                                                 Title[0][0]                      \n",
            "__________________________________________________________________________________________________\n",
            "concatenate (Concatenate)       (None, 2082)         0           dropout_2[0][0]                  \n",
            "                                                                 dense_features_6[0][0]           \n",
            "__________________________________________________________________________________________________\n",
            "dense_5 (Dense)                 (None, 12)           24996       concatenate[0][0]                \n",
            "__________________________________________________________________________________________________\n",
            "dropout_3 (Dropout)             (None, 12)           0           dense_5[0][0]                    \n",
            "__________________________________________________________________________________________________\n",
            "dense_6 (Dense)                 (None, 1)            13          dropout_3[0][0]                  \n",
            "==================================================================================================\n",
            "Total params: 26,941\n",
            "Trainable params: 26,941\n",
            "Non-trainable params: 0\n",
            "__________________________________________________________________________________________________\n"
          ]
        }
      ]
    },
    {
      "cell_type": "code",
      "metadata": {
        "id": "3d0f71a1",
        "outputId": "93a00eb7-f72c-40bf-ecea-c7bdfbf48f8f"
      },
      "source": [
        "model_functional.compile(optimizer='adam',\n",
        "              loss=tf.keras.losses.BinaryCrossentropy(from_logits=True),\n",
        "              metrics=['accuracy'])\n",
        "\n",
        "model_functional.fit(train_ds,\n",
        "          validation_data=val_ds,\n",
        "          epochs=30)"
      ],
      "id": "3d0f71a1",
      "execution_count": null,
      "outputs": [
        {
          "name": "stdout",
          "output_type": "stream",
          "text": [
            "Epoch 1/30\n"
          ]
        },
        {
          "name": "stderr",
          "output_type": "stream",
          "text": [
            "/opt/conda/lib/python3.7/site-packages/tensorflow/python/keras/engine/functional.py:591: UserWarning: Input dict contained keys ['PassengerId'] which did not match any model input. They will be ignored by the model.\n",
            "  [n for n in tensors.keys() if n not in ref_input_names])\n"
          ]
        },
        {
          "name": "stdout",
          "output_type": "stream",
          "text": [
            "18/18 [==============================] - 6s 104ms/step - loss: 0.7105 - accuracy: 0.5466 - val_loss: 0.6497 - val_accuracy: 0.6643\n",
            "Epoch 2/30\n",
            "18/18 [==============================] - 1s 30ms/step - loss: 0.6463 - accuracy: 0.6749 - val_loss: 0.6191 - val_accuracy: 0.7133\n",
            "Epoch 3/30\n",
            "18/18 [==============================] - 1s 37ms/step - loss: 0.6298 - accuracy: 0.6714 - val_loss: 0.5831 - val_accuracy: 0.6993\n",
            "Epoch 4/30\n",
            "18/18 [==============================] - 1s 49ms/step - loss: 0.6087 - accuracy: 0.6837 - val_loss: 0.5689 - val_accuracy: 0.7413\n",
            "Epoch 5/30\n",
            "18/18 [==============================] - 1s 42ms/step - loss: 0.5769 - accuracy: 0.6924 - val_loss: 0.5446 - val_accuracy: 0.7622\n",
            "Epoch 6/30\n",
            "18/18 [==============================] - 1s 65ms/step - loss: 0.5607 - accuracy: 0.7118 - val_loss: 0.5245 - val_accuracy: 0.7692\n",
            "Epoch 7/30\n",
            "18/18 [==============================] - 1s 45ms/step - loss: 0.5508 - accuracy: 0.7381 - val_loss: 0.5142 - val_accuracy: 0.7832\n",
            "Epoch 8/30\n",
            "18/18 [==============================] - 1s 31ms/step - loss: 0.5171 - accuracy: 0.7944 - val_loss: 0.4914 - val_accuracy: 0.7832\n",
            "Epoch 9/30\n",
            "18/18 [==============================] - 1s 36ms/step - loss: 0.5011 - accuracy: 0.7698 - val_loss: 0.4696 - val_accuracy: 0.7902\n",
            "Epoch 10/30\n",
            "18/18 [==============================] - 1s 46ms/step - loss: 0.4784 - accuracy: 0.8049 - val_loss: 0.4551 - val_accuracy: 0.8392\n",
            "Epoch 11/30\n",
            "18/18 [==============================] - 0s 27ms/step - loss: 0.4614 - accuracy: 0.8207 - val_loss: 0.4397 - val_accuracy: 0.8392\n",
            "Epoch 12/30\n",
            "18/18 [==============================] - 1s 34ms/step - loss: 0.4530 - accuracy: 0.8067 - val_loss: 0.4323 - val_accuracy: 0.8252\n",
            "Epoch 13/30\n",
            "18/18 [==============================] - 1s 41ms/step - loss: 0.4426 - accuracy: 0.8348 - val_loss: 0.4294 - val_accuracy: 0.8322\n",
            "Epoch 14/30\n",
            "18/18 [==============================] - 1s 66ms/step - loss: 0.4180 - accuracy: 0.8576 - val_loss: 0.4248 - val_accuracy: 0.8531\n",
            "Epoch 15/30\n",
            "18/18 [==============================] - 1s 37ms/step - loss: 0.3916 - accuracy: 0.8629 - val_loss: 0.4197 - val_accuracy: 0.8462\n",
            "Epoch 16/30\n",
            "18/18 [==============================] - 1s 52ms/step - loss: 0.3880 - accuracy: 0.8629 - val_loss: 0.4178 - val_accuracy: 0.8392\n",
            "Epoch 17/30\n",
            "18/18 [==============================] - 1s 36ms/step - loss: 0.3944 - accuracy: 0.8576 - val_loss: 0.4159 - val_accuracy: 0.8531\n",
            "Epoch 18/30\n",
            "18/18 [==============================] - 1s 43ms/step - loss: 0.3768 - accuracy: 0.8629 - val_loss: 0.4133 - val_accuracy: 0.8531\n",
            "Epoch 19/30\n",
            "18/18 [==============================] - 0s 27ms/step - loss: 0.3642 - accuracy: 0.8699 - val_loss: 0.4142 - val_accuracy: 0.8601\n",
            "Epoch 20/30\n",
            "18/18 [==============================] - 1s 43ms/step - loss: 0.3587 - accuracy: 0.8805 - val_loss: 0.4138 - val_accuracy: 0.8531\n",
            "Epoch 21/30\n",
            "18/18 [==============================] - 1s 37ms/step - loss: 0.3587 - accuracy: 0.8805 - val_loss: 0.4168 - val_accuracy: 0.8531\n",
            "Epoch 22/30\n",
            "18/18 [==============================] - 0s 26ms/step - loss: 0.3404 - accuracy: 0.8858 - val_loss: 0.4143 - val_accuracy: 0.8601\n",
            "Epoch 23/30\n",
            "18/18 [==============================] - 1s 32ms/step - loss: 0.3417 - accuracy: 0.8717 - val_loss: 0.4135 - val_accuracy: 0.8601\n",
            "Epoch 24/30\n",
            "18/18 [==============================] - 1s 44ms/step - loss: 0.3394 - accuracy: 0.8910 - val_loss: 0.4149 - val_accuracy: 0.8601\n",
            "Epoch 25/30\n",
            "18/18 [==============================] - 1s 54ms/step - loss: 0.3363 - accuracy: 0.8998 - val_loss: 0.4187 - val_accuracy: 0.8531\n",
            "Epoch 26/30\n",
            "18/18 [==============================] - 1s 34ms/step - loss: 0.3212 - accuracy: 0.8875 - val_loss: 0.4140 - val_accuracy: 0.8531\n",
            "Epoch 27/30\n",
            "18/18 [==============================] - 1s 44ms/step - loss: 0.3110 - accuracy: 0.9139 - val_loss: 0.4191 - val_accuracy: 0.8531\n",
            "Epoch 28/30\n",
            "18/18 [==============================] - 1s 47ms/step - loss: 0.3012 - accuracy: 0.9069 - val_loss: 0.4161 - val_accuracy: 0.8462\n",
            "Epoch 29/30\n",
            "18/18 [==============================] - 1s 60ms/step - loss: 0.3097 - accuracy: 0.8875 - val_loss: 0.4190 - val_accuracy: 0.8601\n",
            "Epoch 30/30\n",
            "18/18 [==============================] - 1s 40ms/step - loss: 0.2955 - accuracy: 0.9051 - val_loss: 0.4169 - val_accuracy: 0.8392\n"
          ]
        },
        {
          "data": {
            "text/plain": [
              "<tensorflow.python.keras.callbacks.History at 0x7f17050ec7d0>"
            ]
          },
          "execution_count": 26,
          "metadata": {},
          "output_type": "execute_result"
        }
      ]
    },
    {
      "cell_type": "markdown",
      "metadata": {
        "id": "0b2e6e46"
      },
      "source": [
        "# Second Functional Model"
      ],
      "id": "0b2e6e46"
    },
    {
      "cell_type": "code",
      "metadata": {
        "id": "2de055fe"
      },
      "source": [
        "deep = tf.keras.layers.DenseFeatures(deep_columns)(inputs)\n",
        "wide = tf.keras.layers.DenseFeatures(wide_columns)(inputs)\n",
        "\n",
        "deep = tf.keras.layers.Dense(128, activation = 'relu',  kernel_regularizer=tf.keras.regularizers.L1(0.01))(deep)\n",
        "deep = layers.Dropout(.3)(deep)\n",
        "deep = tf.keras.layers.Dense(20, activation = 'relu')(deep)\n",
        "deep = layers.Dropout(.3)(deep)\n",
        "mix = tf.keras.layers.concatenate([deep, wide])\n",
        "mix = tf.keras.layers.Dense(12, activation = 'relu')(mix)\n",
        "mix = layers.Dropout(.3)(mix)\n",
        "output = tf.keras.layers.Dense(1, activation = tf.keras.activations.sigmoid)(mix)\n",
        "\n",
        "model_functional = tf.keras.Model(inputs = inputs, outputs = output, name = 'model_functional')\n",
        "\n",
        "model_functional.compile(optimizer='adam',\n",
        "              loss=tf.keras.losses.BinaryCrossentropy(from_logits=True),\n",
        "              metrics=['accuracy'])\n",
        "\n",
        "model_functional.fit(train_ds,\n",
        "          validation_data=val_ds,\n",
        "          epochs=40)"
      ],
      "id": "2de055fe",
      "execution_count": null,
      "outputs": []
    },
    {
      "cell_type": "markdown",
      "metadata": {
        "id": "471d7f97"
      },
      "source": [
        "# Third Functional Model"
      ],
      "id": "471d7f97"
    },
    {
      "cell_type": "code",
      "metadata": {
        "id": "c1a9d3f0"
      },
      "source": [
        "deep = tf.keras.layers.DenseFeatures(deep_columns)(inputs)\n",
        "wide = tf.keras.layers.DenseFeatures(wide_columns)(inputs)\n",
        "\n",
        "deep = tf.keras.layers.Dense(128, activation = 'relu',  kernel_regularizer=tf.keras.regularizers.L1(0.01))(deep)\n",
        "deep = layers.Dropout(.3)(deep)\n",
        "deep = tf.keras.layers.Dense(20, activation = 'relu')(deep)\n",
        "deep = layers.Dropout(.3)(deep)\n",
        "mix = tf.keras.layers.concatenate([deep, wide])\n",
        "mix = tf.keras.layers.Dense(20, activation = 'relu')(mix)\n",
        "mix = layers.Dropout(.3)(mix)\n",
        "output = tf.keras.layers.Dense(1, activation = tf.keras.activations.sigmoid)(mix)\n",
        "\n",
        "model_functional = tf.keras.Model(inputs = inputs, outputs = output, name = 'model_functional')\n",
        "\n",
        "model_functional.compile(optimizer='adam',\n",
        "              loss=tf.keras.losses.BinaryCrossentropy(from_logits=True),\n",
        "              metrics=['accuracy'])\n",
        "\n",
        "model_functional.fit(train_ds,\n",
        "          validation_data=val_ds,\n",
        "          epochs=40)"
      ],
      "id": "c1a9d3f0",
      "execution_count": null,
      "outputs": []
    },
    {
      "cell_type": "code",
      "metadata": {
        "id": "706a4200"
      },
      "source": [
        "model_functional.evaluate(val_ds)[1]"
      ],
      "id": "706a4200",
      "execution_count": null,
      "outputs": []
    },
    {
      "cell_type": "markdown",
      "metadata": {
        "id": "b86ca3e9"
      },
      "source": [
        "# Bayesian Optimisation\n"
      ],
      "id": "b86ca3e9"
    },
    {
      "cell_type": "code",
      "metadata": {
        "id": "d934730e"
      },
      "source": [
        "from skopt.space import Integer\n",
        "from skopt.space import Real\n",
        "from skopt.utils import use_named_args\n",
        "from skopt import gp_minimize"
      ],
      "id": "d934730e",
      "execution_count": null,
      "outputs": []
    },
    {
      "cell_type": "code",
      "metadata": {
        "id": "c6730680"
      },
      "source": [
        "def create_model(l1, l2, l3, dropout, regulariser_coeff, epochs):\n",
        "    deep = tf.keras.layers.DenseFeatures(deep_columns)(inputs)\n",
        "    wide = tf.keras.layers.DenseFeatures(wide_columns)(inputs)\n",
        "\n",
        "    deep = tf.keras.layers.Dense(l1, activation = 'relu',  kernel_regularizer=tf.keras.regularizers.L1(regulariser_coeff))(deep)\n",
        "    deep = layers.Dropout(dropout)(deep)\n",
        "    deep = tf.keras.layers.Dense(l2, activation = 'relu')(deep)\n",
        "    deep = layers.Dropout(dropout)(deep)\n",
        "    mix = tf.keras.layers.concatenate([deep, wide])\n",
        "    mix = tf.keras.layers.Dense(l3, activation = 'relu')(mix)\n",
        "    mix = layers.Dropout(dropout)(mix)\n",
        "    output = tf.keras.layers.Dense(1, activation = tf.keras.activations.sigmoid)(mix)\n",
        "\n",
        "    model_functional = tf.keras.Model(inputs = inputs, outputs = output, name = 'model_functional')\n",
        "\n",
        "    model_functional.compile(optimizer='adam',\n",
        "                  loss=tf.keras.losses.BinaryCrossentropy(from_logits=True),\n",
        "                  metrics=['accuracy'])\n",
        "\n",
        "    model_functional.fit(train_ds,\n",
        "              validation_data=val_ds,\n",
        "              epochs=epochs)\n",
        "    return model_functional"
      ],
      "id": "c6730680",
      "execution_count": null,
      "outputs": []
    },
    {
      "cell_type": "code",
      "metadata": {
        "id": "9644631d"
      },
      "source": [
        "def evaluate_model(model):\n",
        "    evaluation = model.evaluate(val_ds)[1]\n",
        "    return 1 - evaluation"
      ],
      "id": "9644631d",
      "execution_count": null,
      "outputs": []
    },
    {
      "cell_type": "code",
      "metadata": {
        "id": "e432b078"
      },
      "source": [
        "search_space = [Integer(20, 200, name='l1'),Integer(20, 200, name='l2'), Integer(20, 200, name='l3'), \n",
        "                Real(0, 0.5, name = \"dropout\"), Integer(10,30, name = \"epochs\"), Real(0,0.5, name = \"regulariser_coeff\")]"
      ],
      "id": "e432b078",
      "execution_count": null,
      "outputs": []
    },
    {
      "cell_type": "code",
      "metadata": {
        "id": "b4b1e1fc"
      },
      "source": [
        "@use_named_args(search_space)\n",
        "def evaluate_params(l1, l2, l3, dropout, regulariser_coeff, epochs):\n",
        "    print(\"l1: \", l1, \"l2:\", l2, \"l3:\", l3, \"dropout:\", dropout, \"regulariser_coeff\", regulariser_coeff, \"epochs:\", epochs )\n",
        "    model = create_model(l1, l2, l3, dropout, regulariser_coeff, epochs)\n",
        "    return evaluate_model(model)\n",
        "    "
      ],
      "id": "b4b1e1fc",
      "execution_count": null,
      "outputs": []
    },
    {
      "cell_type": "code",
      "metadata": {
        "id": "b6d3c2ac",
        "outputId": "49b99dd2-f44f-4e7d-d806-bd22f9bfe806"
      },
      "source": [
        "result = gp_minimize(evaluate_params, search_space)"
      ],
      "id": "b6d3c2ac",
      "execution_count": null,
      "outputs": [
        {
          "name": "stdout",
          "output_type": "stream",
          "text": [
            "l1:  135 l2: 101 l3: 53 dropout: 0.16483492199639968 regulariser_coeff 0.4393393858088332 epochs: 26\n",
            "Epoch 1/26\n",
            "18/18 [==============================] - 4s 88ms/step - loss: 12.3127 - accuracy: 0.6503 - val_loss: 11.1428 - val_accuracy: 0.7133\n",
            "Epoch 2/26\n",
            "18/18 [==============================] - 1s 42ms/step - loss: 10.2989 - accuracy: 0.6731 - val_loss: 9.2726 - val_accuracy: 0.7483\n",
            "Epoch 3/26\n",
            "18/18 [==============================] - 1s 30ms/step - loss: 8.5057 - accuracy: 0.6960 - val_loss: 7.5995 - val_accuracy: 0.7622\n",
            "Epoch 4/26\n",
            "18/18 [==============================] - 1s 39ms/step - loss: 6.8860 - accuracy: 0.7329 - val_loss: 6.0626 - val_accuracy: 0.7762\n",
            "Epoch 5/26\n",
            "18/18 [==============================] - 1s 30ms/step - loss: 5.4418 - accuracy: 0.7663 - val_loss: 4.7400 - val_accuracy: 0.7972\n",
            "Epoch 6/26\n",
            "18/18 [==============================] - 1s 44ms/step - loss: 4.1814 - accuracy: 0.8014 - val_loss: 3.5591 - val_accuracy: 0.8112\n",
            "Epoch 7/26\n",
            "18/18 [==============================] - 1s 47ms/step - loss: 3.0942 - accuracy: 0.8120 - val_loss: 2.6012 - val_accuracy: 0.8252\n",
            "Epoch 8/26\n",
            "18/18 [==============================] - 1s 45ms/step - loss: 2.2080 - accuracy: 0.8453 - val_loss: 1.8316 - val_accuracy: 0.8322\n",
            "Epoch 9/26\n",
            "18/18 [==============================] - 1s 34ms/step - loss: 1.5099 - accuracy: 0.8348 - val_loss: 1.2147 - val_accuracy: 0.8462\n",
            "Epoch 10/26\n",
            "18/18 [==============================] - 1s 36ms/step - loss: 0.9373 - accuracy: 0.8506 - val_loss: 0.7443 - val_accuracy: 0.8392\n",
            "Epoch 11/26\n",
            "18/18 [==============================] - 1s 52ms/step - loss: 0.5653 - accuracy: 0.8629 - val_loss: 0.5016 - val_accuracy: 0.8531\n",
            "Epoch 12/26\n",
            "18/18 [==============================] - 1s 53ms/step - loss: 0.4082 - accuracy: 0.8770 - val_loss: 0.4494 - val_accuracy: 0.8531\n",
            "Epoch 13/26\n",
            "18/18 [==============================] - 1s 43ms/step - loss: 0.3574 - accuracy: 0.8946 - val_loss: 0.4370 - val_accuracy: 0.8601\n",
            "Epoch 14/26\n",
            "18/18 [==============================] - 1s 38ms/step - loss: 0.3425 - accuracy: 0.8910 - val_loss: 0.4353 - val_accuracy: 0.8531\n",
            "Epoch 15/26\n",
            "18/18 [==============================] - 1s 34ms/step - loss: 0.3251 - accuracy: 0.8910 - val_loss: 0.4347 - val_accuracy: 0.8531\n",
            "Epoch 16/26\n",
            "18/18 [==============================] - 1s 46ms/step - loss: 0.3114 - accuracy: 0.9016 - val_loss: 0.4372 - val_accuracy: 0.8462\n",
            "Epoch 17/26\n",
            "18/18 [==============================] - 1s 43ms/step - loss: 0.2982 - accuracy: 0.8998 - val_loss: 0.4430 - val_accuracy: 0.8601\n",
            "Epoch 18/26\n",
            "18/18 [==============================] - 0s 25ms/step - loss: 0.2902 - accuracy: 0.9051 - val_loss: 0.4474 - val_accuracy: 0.8462\n",
            "Epoch 19/26\n",
            "18/18 [==============================] - 1s 30ms/step - loss: 0.2703 - accuracy: 0.9209 - val_loss: 0.4485 - val_accuracy: 0.8601\n",
            "Epoch 20/26\n",
            "18/18 [==============================] - 1s 38ms/step - loss: 0.2638 - accuracy: 0.9156 - val_loss: 0.4527 - val_accuracy: 0.8671\n",
            "Epoch 21/26\n",
            "18/18 [==============================] - 1s 34ms/step - loss: 0.2470 - accuracy: 0.9086 - val_loss: 0.4551 - val_accuracy: 0.8531\n",
            "Epoch 22/26\n",
            "18/18 [==============================] - 0s 20ms/step - loss: 0.2359 - accuracy: 0.9227 - val_loss: 0.4611 - val_accuracy: 0.8462\n",
            "Epoch 23/26\n",
            "18/18 [==============================] - 0s 19ms/step - loss: 0.2310 - accuracy: 0.9192 - val_loss: 0.4714 - val_accuracy: 0.8322\n",
            "Epoch 24/26\n",
            "18/18 [==============================] - 1s 43ms/step - loss: 0.2149 - accuracy: 0.9332 - val_loss: 0.4711 - val_accuracy: 0.8252\n",
            "Epoch 25/26\n",
            "18/18 [==============================] - 1s 51ms/step - loss: 0.2121 - accuracy: 0.9315 - val_loss: 0.4856 - val_accuracy: 0.8182\n",
            "Epoch 26/26\n",
            "18/18 [==============================] - 1s 57ms/step - loss: 0.1995 - accuracy: 0.9315 - val_loss: 0.4771 - val_accuracy: 0.8252\n",
            "5/5 [==============================] - 0s 42ms/step - loss: 0.4771 - accuracy: 0.8252\n",
            "l1:  125 l2: 104 l3: 75 dropout: 0.2013083199282279 regulariser_coeff 0.27371598463107627 epochs: 28\n",
            "Epoch 1/28\n",
            "18/18 [==============================] - 6s 126ms/step - loss: 7.4031 - accuracy: 0.6397 - val_loss: 6.6951 - val_accuracy: 0.7203\n",
            "Epoch 2/28\n",
            "18/18 [==============================] - 1s 43ms/step - loss: 6.2058 - accuracy: 0.6749 - val_loss: 5.5860 - val_accuracy: 0.7483\n",
            "Epoch 3/28\n",
            "18/18 [==============================] - 1s 30ms/step - loss: 5.1506 - accuracy: 0.7065 - val_loss: 4.6067 - val_accuracy: 0.7483\n",
            "Epoch 4/28\n",
            "18/18 [==============================] - 1s 39ms/step - loss: 4.2333 - accuracy: 0.7206 - val_loss: 3.7579 - val_accuracy: 0.7622\n",
            "Epoch 5/28\n",
            "18/18 [==============================] - 1s 38ms/step - loss: 3.4127 - accuracy: 0.7627 - val_loss: 3.0076 - val_accuracy: 0.8112\n",
            "Epoch 6/28\n",
            "18/18 [==============================] - 1s 52ms/step - loss: 2.6901 - accuracy: 0.8207 - val_loss: 2.3337 - val_accuracy: 0.8112\n",
            "Epoch 7/28\n",
            "18/18 [==============================] - 1s 41ms/step - loss: 2.0790 - accuracy: 0.8032 - val_loss: 1.7778 - val_accuracy: 0.8322\n",
            "Epoch 8/28\n",
            "18/18 [==============================] - 0s 26ms/step - loss: 1.5489 - accuracy: 0.8278 - val_loss: 1.3295 - val_accuracy: 0.8392\n",
            "Epoch 9/28\n",
            "18/18 [==============================] - 0s 24ms/step - loss: 1.1299 - accuracy: 0.8383 - val_loss: 0.9682 - val_accuracy: 0.8392\n",
            "Epoch 10/28\n",
            "18/18 [==============================] - 1s 30ms/step - loss: 0.7985 - accuracy: 0.8436 - val_loss: 0.7044 - val_accuracy: 0.8392\n",
            "Epoch 11/28\n",
            "18/18 [==============================] - 1s 41ms/step - loss: 0.5618 - accuracy: 0.8629 - val_loss: 0.5292 - val_accuracy: 0.8392\n",
            "Epoch 12/28\n",
            "18/18 [==============================] - 1s 28ms/step - loss: 0.4170 - accuracy: 0.8735 - val_loss: 0.4513 - val_accuracy: 0.8601\n",
            "Epoch 13/28\n",
            "18/18 [==============================] - 1s 33ms/step - loss: 0.3499 - accuracy: 0.8858 - val_loss: 0.4318 - val_accuracy: 0.8601\n",
            "Epoch 14/28\n",
            "18/18 [==============================] - 1s 35ms/step - loss: 0.3267 - accuracy: 0.8981 - val_loss: 0.4356 - val_accuracy: 0.8601\n",
            "Epoch 15/28\n",
            "18/18 [==============================] - 1s 32ms/step - loss: 0.3068 - accuracy: 0.8981 - val_loss: 0.4385 - val_accuracy: 0.8671\n",
            "Epoch 16/28\n",
            "18/18 [==============================] - 1s 41ms/step - loss: 0.2944 - accuracy: 0.9069 - val_loss: 0.4423 - val_accuracy: 0.8671\n",
            "Epoch 17/28\n",
            "18/18 [==============================] - 1s 43ms/step - loss: 0.2754 - accuracy: 0.9086 - val_loss: 0.4408 - val_accuracy: 0.8601\n",
            "Epoch 18/28\n",
            "18/18 [==============================] - 1s 29ms/step - loss: 0.2674 - accuracy: 0.9156 - val_loss: 0.4464 - val_accuracy: 0.8601\n",
            "Epoch 19/28\n",
            "18/18 [==============================] - 1s 38ms/step - loss: 0.2502 - accuracy: 0.9139 - val_loss: 0.4442 - val_accuracy: 0.8601\n",
            "Epoch 20/28\n",
            " 1/18 [>.............................] - ETA: 0s - loss: 0.2573 - accuracy: 0.9062"
          ]
        }
      ]
    },
    {
      "cell_type": "code",
      "metadata": {
        "id": "524f8fe5"
      },
      "source": [
        ""
      ],
      "id": "524f8fe5",
      "execution_count": null,
      "outputs": []
    },
    {
      "cell_type": "code",
      "metadata": {
        "id": "556f5e73"
      },
      "source": [
        ""
      ],
      "id": "556f5e73",
      "execution_count": null,
      "outputs": []
    },
    {
      "cell_type": "code",
      "metadata": {
        "id": "792a13b7"
      },
      "source": [
        ""
      ],
      "id": "792a13b7",
      "execution_count": null,
      "outputs": []
    },
    {
      "cell_type": "code",
      "metadata": {
        "id": "c3793aa0"
      },
      "source": [
        ""
      ],
      "id": "c3793aa0",
      "execution_count": null,
      "outputs": []
    },
    {
      "cell_type": "code",
      "metadata": {
        "id": "c356ead7"
      },
      "source": [
        ""
      ],
      "id": "c356ead7",
      "execution_count": null,
      "outputs": []
    },
    {
      "cell_type": "code",
      "metadata": {
        "id": "2f6116b6"
      },
      "source": [
        ""
      ],
      "id": "2f6116b6",
      "execution_count": null,
      "outputs": []
    },
    {
      "cell_type": "code",
      "metadata": {
        "id": "7def2f2c"
      },
      "source": [
        ""
      ],
      "id": "7def2f2c",
      "execution_count": null,
      "outputs": []
    },
    {
      "cell_type": "code",
      "metadata": {
        "id": "6670ea40"
      },
      "source": [
        ""
      ],
      "id": "6670ea40",
      "execution_count": null,
      "outputs": []
    },
    {
      "cell_type": "code",
      "metadata": {
        "id": "4fbedcf6"
      },
      "source": [
        ""
      ],
      "id": "4fbedcf6",
      "execution_count": null,
      "outputs": []
    }
  ]
}
